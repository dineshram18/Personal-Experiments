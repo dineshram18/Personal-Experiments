{
 "cells": [
  {
   "cell_type": "code",
   "execution_count": 1,
   "id": "e0d1d947",
   "metadata": {},
   "outputs": [
    {
     "name": "stderr",
     "output_type": "stream",
     "text": [
      "C:\\Users\\dram\\AppData\\Local\\Temp\\ipykernel_15216\\1951173204.py:34: DeprecationWarning: on_submit is deprecated. Instead, set the .continuous_update attribute to False and observe the value changing with: mywidget.observe(callback, 'value').\n",
      "  path_text.on_submit(on_path_submit)\n"
     ]
    },
    {
     "data": {
      "application/vnd.jupyter.widget-view+json": {
       "model_id": "fc4aebb00cd7463d90f145597fe6d658",
       "version_major": 2,
       "version_minor": 0
      },
      "text/plain": [
       "Text(value='', description='File Path:', placeholder='Enter file path here')"
      ]
     },
     "metadata": {},
     "output_type": "display_data"
    }
   ],
   "source": [
    "import ipywidgets as widgets\n",
    "from IPython.display import display\n",
    "import datetime\n",
    "import pywintypes\n",
    "import win32file\n",
    "import win32con\n",
    "import os\n",
    "\n",
    "def set_file_timestamps(file_path, new_datetime):\n",
    "    wintime = pywintypes.Time(new_datetime)\n",
    "    fh = win32file.CreateFile(\n",
    "        file_path, win32con.GENERIC_WRITE,\n",
    "        0, None, win32con.OPEN_EXISTING,\n",
    "        win32con.FILE_ATTRIBUTE_NORMAL, None)\n",
    "    win32file.SetFileTime(fh, wintime, wintime, wintime)\n",
    "    fh.close()\n",
    "\n",
    "def on_path_submit(change):\n",
    "    file_path = path_text.value\n",
    "    if os.path.isfile(file_path):\n",
    "        new_dt = datetime.datetime(2025, 3, 31, 16, 45, 39)\n",
    "        set_file_timestamps(file_path, new_dt)\n",
    "        formatted = new_dt.strftime(\"%A, %B %d, %Y, %I:%M:%S %p\")\n",
    "        print(f\"File '{file_path}' timestamps set to: {formatted}\")\n",
    "    else:\n",
    "        print(f\"File '{file_path}' does not exist.\")\n",
    "\n",
    "path_text = widgets.Text(\n",
    "    value='',\n",
    "    placeholder='Enter file path here',\n",
    "    description='File Path:',\n",
    "    disabled=False\n",
    ")\n",
    "path_text.on_submit(on_path_submit)\n",
    "display(path_text)"
   ]
  }
 ],
 "metadata": {
  "kernelspec": {
   "display_name": "Python 3",
   "language": "python",
   "name": "python3"
  },
  "language_info": {
   "codemirror_mode": {
    "name": "ipython",
    "version": 3
   },
   "file_extension": ".py",
   "mimetype": "text/x-python",
   "name": "python",
   "nbconvert_exporter": "python",
   "pygments_lexer": "ipython3",
   "version": "3.13.2"
  }
 },
 "nbformat": 4,
 "nbformat_minor": 5
}
